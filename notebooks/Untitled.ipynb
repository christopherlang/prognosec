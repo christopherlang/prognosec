{
 "cells": [
  {
   "cell_type": "code",
   "execution_count": 1,
   "metadata": {},
   "outputs": [],
   "source": [
    "import sys\n",
    "import os\n",
    "import pandas\n",
    "import numpy\n",
    "from pandas.tseries.holiday import USFederalHolidayCalendar\n",
    "\n",
    "os.chdir('/home/chlang/Projects/prognosec')\n",
    "\n",
    "sys.path.append('/home/chlang/Projects/prognosec/prognosec')\n",
    "\n",
    "%load_ext autoreload\n",
    "%autoreload 1\n",
    "%aimport timeseries\n",
    "%aimport transfun"
   ]
  },
  {
   "cell_type": "code",
   "execution_count": 2,
   "metadata": {},
   "outputs": [],
   "source": [
    "gdp = pandas.read_csv('data/USGDP/usgdp.csv', sep=',')\n",
    "gdp = gdp.rename({'level-current': 'gdp-current', 'level-chained': 'gdp-chained',\n",
    "                  'change-current': 'gdp-change-current',\n",
    "                  'change-chained': 'gdp-change-chained'}, axis=1)\n",
    "gdp['date'] = pandas.to_datetime(gdp['date'], format='%Y-%m-%d')\n",
    "gdp = gdp.set_index('date').asfreq('QS', 'ffill')"
   ]
  },
  {
   "cell_type": "code",
   "execution_count": 7,
   "metadata": {},
   "outputs": [],
   "source": [
    "tmp = timeseries.ExogFrame(gdp)"
   ]
  },
  {
   "cell_type": "code",
   "execution_count": 8,
   "metadata": {},
   "outputs": [
    {
     "data": {
      "text/plain": [
       "OrderedDict([('gdp-current', <timeseries.ExogSeries at 0x7f56e94b5400>),\n",
       "             ('gdp-chained', <timeseries.ExogSeries at 0x7f571454c7b8>),\n",
       "             ('gdp-change-current', <timeseries.ExogSeries at 0x7f56e94b5898>),\n",
       "             ('gdp-change-chained',\n",
       "              <timeseries.ExogSeries at 0x7f56e94b5278>)])"
      ]
     },
     "execution_count": 8,
     "metadata": {},
     "output_type": "execute_result"
    }
   ],
   "source": [
    "tmp.exogseries"
   ]
  },
  {
   "cell_type": "code",
   "execution_count": 10,
   "metadata": {},
   "outputs": [
    {
     "data": {
      "text/plain": [
       "[281, 281, 281, 281]"
      ]
     },
     "execution_count": 10,
     "metadata": {},
     "output_type": "execute_result"
    }
   ],
   "source": [
    "tmp.nrows"
   ]
  },
  {
   "cell_type": "code",
   "execution_count": 11,
   "metadata": {},
   "outputs": [
    {
     "data": {
      "text/plain": [
       "OrderedDict([('gdp-current', 281),\n",
       "             ('gdp-chained', 281),\n",
       "             ('gdp-change-current', 281),\n",
       "             ('gdp-change-chained', 281)])"
      ]
     },
     "execution_count": 11,
     "metadata": {},
     "output_type": "execute_result"
    }
   ],
   "source": [
    "tmp.nrows_named"
   ]
  },
  {
   "cell_type": "code",
   "execution_count": 12,
   "metadata": {},
   "outputs": [
    {
     "data": {
      "text/plain": [
       "[<QuarterBegin: startingMonth=1>,\n",
       " <QuarterBegin: startingMonth=1>,\n",
       " <QuarterBegin: startingMonth=1>,\n",
       " <QuarterBegin: startingMonth=1>]"
      ]
     },
     "execution_count": 12,
     "metadata": {},
     "output_type": "execute_result"
    }
   ],
   "source": [
    "tmp.frequency"
   ]
  },
  {
   "cell_type": "code",
   "execution_count": 14,
   "metadata": {},
   "outputs": [
    {
     "data": {
      "text/plain": [
       "['gdp-current', 'gdp-chained', 'gdp-change-current', 'gdp-change-chained']"
      ]
     },
     "execution_count": 14,
     "metadata": {},
     "output_type": "execute_result"
    }
   ],
   "source": [
    "tmp.names"
   ]
  }
 ],
 "metadata": {
  "kernelspec": {
   "display_name": "Python 3",
   "language": "python",
   "name": "python3"
  },
  "language_info": {
   "codemirror_mode": {
    "name": "ipython",
    "version": 3
   },
   "file_extension": ".py",
   "mimetype": "text/x-python",
   "name": "python",
   "nbconvert_exporter": "python",
   "pygments_lexer": "ipython3",
   "version": "3.7.3"
  }
 },
 "nbformat": 4,
 "nbformat_minor": 2
}
