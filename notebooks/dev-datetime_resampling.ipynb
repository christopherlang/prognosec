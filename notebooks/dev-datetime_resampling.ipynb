{
 "cells": [
  {
   "cell_type": "code",
   "execution_count": 1,
   "metadata": {},
   "outputs": [],
   "source": [
    "import sys\n",
    "import os\n",
    "from tqdm import tqdm_notebook\n",
    "import pandas\n",
    "from pandas.tseries.holiday import USFederalHolidayCalendar\n",
    "from statsmodels.tsa.arima_model import ARIMA\n",
    "import sklearn.model_selection\n",
    "\n",
    "os.chdir('/home/chlang/Projects/prognosec')\n",
    "sys.path.append('/home/chlang/Projects/prognosec/prognosec')"
   ]
  },
  {
   "cell_type": "code",
   "execution_count": 2,
   "metadata": {},
   "outputs": [],
   "source": [
    "gdp = pandas.read_csv('data/USGDP/usgdp.csv', sep=',')\n",
    "gdp = gdp.rename({'level-current': 'gdp-current', 'level-chained': 'gdp-chained',\n",
    "                  'change-current': 'gdp-change-current',\n",
    "                  'change-chained': 'gdp-change-chained'}, axis=1)\n",
    "gdp['date'] = pandas.to_datetime(gdp['date'], format='%Y-%m-%d')\n",
    "gdp = gdp.set_index('date').asfreq('QS', 'ffill')\n",
    "\n",
    "cpiai = pandas.read_csv('data/USCPIAI/uscpiai.csv', sep=',')\n",
    "cpiai = cpiai.rename({'Date': 'date', 'Index': 'cpi', 'Inflation': 'inflation'}, axis=1)\n",
    "cpiai['date'] = pandas.to_datetime(cpiai['date'], format='%Y-%m-%d')\n",
    "cpiai = cpiai.set_index('date').asfreq('MS', 'ffill')"
   ]
  },
  {
   "cell_type": "code",
   "execution_count": 3,
   "metadata": {},
   "outputs": [
    {
     "data": {
      "text/plain": [
       "DatetimeIndex(['1947-04-01', '1947-07-01', '1947-10-01', '1948-01-01',\n",
       "               '1948-04-01', '1948-07-01', '1948-10-01', '1949-01-01',\n",
       "               '1949-04-01', '1949-07-01',\n",
       "               ...\n",
       "               '2015-01-01', '2015-04-01', '2015-07-01', '2015-10-01',\n",
       "               '2016-01-01', '2016-04-01', '2016-07-01', '2016-10-01',\n",
       "               '2017-01-01', '2017-04-01'],\n",
       "              dtype='datetime64[ns]', name='date', length=281, freq='QS-JAN')"
      ]
     },
     "execution_count": 3,
     "metadata": {},
     "output_type": "execute_result"
    }
   ],
   "source": [
    "gdp.index"
   ]
  },
  {
   "cell_type": "markdown",
   "metadata": {},
   "source": [
    "## Testing method for upsampling/downsampling\n",
    "\n",
    "**upsampling** means to resample low frequency (e.g. monthly) to high frequency (e.g. daily). For example, taking monthly CPI and giving it the same value for the days in that month\n",
    "\n",
    "**downsampling** means to resample high frequency (e.g. daily) to low frequency (e.g. monthly). Some form of aggregation is needed e.g. mean, sum"
   ]
  },
  {
   "cell_type": "markdown",
   "metadata": {},
   "source": [
    "### Attempt upsampling (e.g. quarterly -> monthly)"
   ]
  }
 ],
 "metadata": {
  "kernelspec": {
   "display_name": "Python 3",
   "language": "python",
   "name": "python3"
  },
  "language_info": {
   "codemirror_mode": {
    "name": "ipython",
    "version": 3
   },
   "file_extension": ".py",
   "mimetype": "text/x-python",
   "name": "python",
   "nbconvert_exporter": "python",
   "pygments_lexer": "ipython3",
   "version": "3.7.3"
  }
 },
 "nbformat": 4,
 "nbformat_minor": 2
}
