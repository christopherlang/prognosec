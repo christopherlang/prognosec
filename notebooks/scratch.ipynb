{
 "cells": [
  {
   "cell_type": "code",
   "execution_count": 1,
   "metadata": {},
   "outputs": [],
   "source": [
    "import sys\n",
    "import os\n",
    "import csv\n",
    "from tqdm import tqdm_notebook\n",
    "import pandas\n",
    "import numpy\n",
    "from pandas.tseries.holiday import USFederalHolidayCalendar\n",
    "from statsmodels.tsa.arima_model import ARIMA\n",
    "import sklearn.model_selection\n",
    "\n",
    "import warnings\n",
    "warnings.simplefilter('once', category=UserWarning)\n",
    "\n",
    "os.chdir('/home/chlang/Projects/prognosec')\n",
    "\n",
    "sys.path.append('/home/chlang/Projects/prognosec/prognosec')\n",
    "\n",
    "%load_ext autoreload\n",
    "%autoreload 1\n",
    "%aimport models\n",
    "%aimport timeseries"
   ]
  },
  {
   "cell_type": "code",
   "execution_count": 25,
   "metadata": {
    "scrolled": true
   },
   "outputs": [
    {
     "ename": "ValueError",
     "evalue": "No series can have NaN/Inf",
     "output_type": "error",
     "traceback": [
      "\u001b[0;31m---------------------------------------------------------------------------\u001b[0m",
      "\u001b[0;31mValueError\u001b[0m                                Traceback (most recent call last)",
      "\u001b[0;32m<ipython-input-25-0cf513e7125f>\u001b[0m in \u001b[0;36m<module>\u001b[0;34m\u001b[0m\n\u001b[1;32m      8\u001b[0m     \u001b[0mts_ed\u001b[0m \u001b[0;34m=\u001b[0m \u001b[0mts_ed\u001b[0m\u001b[0;34m.\u001b[0m\u001b[0mset_index\u001b[0m\u001b[0;34m(\u001b[0m\u001b[0;34m'date'\u001b[0m\u001b[0;34m)\u001b[0m\u001b[0;34m.\u001b[0m\u001b[0mdrop\u001b[0m\u001b[0;34m(\u001b[0m\u001b[0;34m'secid'\u001b[0m\u001b[0;34m,\u001b[0m \u001b[0;36m1\u001b[0m\u001b[0;34m)\u001b[0m\u001b[0;34m.\u001b[0m\u001b[0mapply\u001b[0m\u001b[0;34m(\u001b[0m\u001b[0mpandas\u001b[0m\u001b[0;34m.\u001b[0m\u001b[0mto_numeric\u001b[0m\u001b[0;34m)\u001b[0m\u001b[0;34m\u001b[0m\u001b[0;34m\u001b[0m\u001b[0m\n\u001b[1;32m      9\u001b[0m \u001b[0;34m\u001b[0m\u001b[0m\n\u001b[0;32m---> 10\u001b[0;31m     \u001b[0mts_ed\u001b[0m \u001b[0;34m=\u001b[0m \u001b[0mtimeseries\u001b[0m\u001b[0;34m.\u001b[0m\u001b[0mTimeseries\u001b[0m\u001b[0;34m(\u001b[0m\u001b[0mts_ed\u001b[0m\u001b[0;34m,\u001b[0m \u001b[0;34m'adj_close'\u001b[0m\u001b[0;34m,\u001b[0m \u001b[0mtimeseries\u001b[0m\u001b[0;34m.\u001b[0m\u001b[0mCAL_NYSE\u001b[0m\u001b[0;34m)\u001b[0m\u001b[0;34m\u001b[0m\u001b[0;34m\u001b[0m\u001b[0m\n\u001b[0m\u001b[1;32m     11\u001b[0m \u001b[0;34m\u001b[0m\u001b[0m\n\u001b[1;32m     12\u001b[0m \u001b[0;32mwith\u001b[0m \u001b[0mopen\u001b[0m\u001b[0;34m(\u001b[0m\u001b[0;34m'data/data-1574048640489.csv'\u001b[0m\u001b[0;34m,\u001b[0m \u001b[0;34m'r'\u001b[0m\u001b[0;34m,\u001b[0m \u001b[0mencoding\u001b[0m\u001b[0;34m=\u001b[0m\u001b[0;34m'utf-8'\u001b[0m\u001b[0;34m)\u001b[0m \u001b[0;32mas\u001b[0m \u001b[0mf\u001b[0m\u001b[0;34m:\u001b[0m\u001b[0;34m\u001b[0m\u001b[0;34m\u001b[0m\u001b[0m\n",
      "\u001b[0;32m~/Projects/prognosec/prognosec/timeseries.py\u001b[0m in \u001b[0;36m__init__\u001b[0;34m(self, timeseries, primary_series, calendar, na_strategy, enable_transforms, exog)\u001b[0m\n\u001b[1;32m     62\u001b[0m         \u001b[0mts\u001b[0m \u001b[0;34m=\u001b[0m \u001b[0mtimeseries\u001b[0m\u001b[0;34m.\u001b[0m\u001b[0mcopy\u001b[0m\u001b[0;34m(\u001b[0m\u001b[0mdeep\u001b[0m\u001b[0;34m=\u001b[0m\u001b[0;32mTrue\u001b[0m\u001b[0;34m)\u001b[0m\u001b[0;34m\u001b[0m\u001b[0;34m\u001b[0m\u001b[0m\n\u001b[1;32m     63\u001b[0m         \u001b[0mself\u001b[0m\u001b[0;34m.\u001b[0m\u001b[0m_timeseries\u001b[0m \u001b[0;34m=\u001b[0m \u001b[0mself\u001b[0m\u001b[0;34m.\u001b[0m\u001b[0m_execute_na_strategy\u001b[0m\u001b[0;34m(\u001b[0m\u001b[0mts\u001b[0m\u001b[0;34m,\u001b[0m \u001b[0mna_strategy\u001b[0m\u001b[0;34m)\u001b[0m\u001b[0;34m\u001b[0m\u001b[0;34m\u001b[0m\u001b[0m\n\u001b[0;32m---> 64\u001b[0;31m         \u001b[0mself\u001b[0m\u001b[0;34m.\u001b[0m\u001b[0m_verify\u001b[0m\u001b[0;34m(\u001b[0m\u001b[0mself\u001b[0m\u001b[0;34m.\u001b[0m\u001b[0m_timeseries\u001b[0m\u001b[0;34m,\u001b[0m \u001b[0mprimary_series\u001b[0m\u001b[0;34m)\u001b[0m\u001b[0;34m\u001b[0m\u001b[0;34m\u001b[0m\u001b[0m\n\u001b[0m\u001b[1;32m     65\u001b[0m         \u001b[0mself\u001b[0m\u001b[0;34m.\u001b[0m\u001b[0m_primary_series\u001b[0m \u001b[0;34m=\u001b[0m \u001b[0mprimary_series\u001b[0m\u001b[0;34m\u001b[0m\u001b[0;34m\u001b[0m\u001b[0m\n\u001b[1;32m     66\u001b[0m         \u001b[0mself\u001b[0m\u001b[0;34m.\u001b[0m\u001b[0m_na_strategy\u001b[0m \u001b[0;34m=\u001b[0m \u001b[0mna_strategy\u001b[0m\u001b[0;34m\u001b[0m\u001b[0;34m\u001b[0m\u001b[0m\n",
      "\u001b[0;32m~/Projects/prognosec/prognosec/timeseries.py\u001b[0m in \u001b[0;36m_verify\u001b[0;34m(self, timeseries, primary_series)\u001b[0m\n\u001b[1;32m    262\u001b[0m \u001b[0;34m\u001b[0m\u001b[0m\n\u001b[1;32m    263\u001b[0m         \u001b[0;32mif\u001b[0m \u001b[0many\u001b[0m\u001b[0;34m(\u001b[0m\u001b[0mtimeseries\u001b[0m\u001b[0;34m.\u001b[0m\u001b[0mapply\u001b[0m\u001b[0;34m(\u001b[0m\u001b[0;32mlambda\u001b[0m \u001b[0mx\u001b[0m\u001b[0;34m:\u001b[0m \u001b[0mx\u001b[0m\u001b[0;34m.\u001b[0m\u001b[0mhasnans\u001b[0m\u001b[0;34m)\u001b[0m\u001b[0;34m)\u001b[0m \u001b[0;32mis\u001b[0m \u001b[0;32mTrue\u001b[0m\u001b[0;34m:\u001b[0m\u001b[0;34m\u001b[0m\u001b[0;34m\u001b[0m\u001b[0m\n\u001b[0;32m--> 264\u001b[0;31m             \u001b[0;32mraise\u001b[0m \u001b[0mValueError\u001b[0m\u001b[0;34m(\u001b[0m\u001b[0;34m\"No series can have NaN/Inf\"\u001b[0m\u001b[0;34m)\u001b[0m\u001b[0;34m\u001b[0m\u001b[0;34m\u001b[0m\u001b[0m\n\u001b[0m\u001b[1;32m    265\u001b[0m \u001b[0;34m\u001b[0m\u001b[0m\n\u001b[1;32m    266\u001b[0m     \u001b[0;32mdef\u001b[0m \u001b[0m__repr__\u001b[0m\u001b[0;34m(\u001b[0m\u001b[0mself\u001b[0m\u001b[0;34m)\u001b[0m\u001b[0;34m:\u001b[0m\u001b[0;34m\u001b[0m\u001b[0;34m\u001b[0m\u001b[0m\n",
      "\u001b[0;31mValueError\u001b[0m: No series can have NaN/Inf"
     ]
    }
   ],
   "source": [
    "with open('data/data-1574048454921.csv', 'r', encoding='utf-8') as f:\n",
    "    csvreader = csv.DictReader(f, delimiter=',')\n",
    "\n",
    "    ts_ed = [row for row in csvreader]\n",
    "\n",
    "    ts_ed = pandas.DataFrame.from_dict(ts_ed).drop(['frequency', 'intraperiod'], axis=1)\n",
    "    ts_ed['date'] = pandas.to_datetime(ts_ed['date'], format='%Y-%m-%d', utc=True)\n",
    "    ts_ed = ts_ed.set_index('date').drop('secid', 1).apply(pandas.to_numeric)\n",
    "\n",
    "    ts_ed = timeseries.Timeseries(ts_ed, 'adj_close', timeseries.CAL_NYSE)\n",
    "    \n",
    "with open('data/data-1574048640489.csv', 'r', encoding='utf-8') as f:\n",
    "    csvreader = csv.DictReader(f, delimiter=',')\n",
    "\n",
    "    ts_aapl = [row for row in csvreader]\n",
    "\n",
    "    ts_aapl = pandas.DataFrame.from_dict(ts_aapl).drop(['frequency', 'intraperiod'], axis=1)\n",
    "    ts_aapl['date'] = pandas.to_datetime(ts_aapl['date'], format='%Y-%m-%d', utc=True)\n",
    "    ts_aapl = ts_aapl.set_index('date').drop('secid', 1).apply(pandas.to_numeric)\n",
    "\n",
    "#     ts_aapl = timeseries.Timeseries(ts_aapl, 'adj_close', timeseries.CAL_NASDAQ)"
   ]
  },
  {
   "cell_type": "code",
   "execution_count": 34,
   "metadata": {},
   "outputs": [],
   "source": [
    "ts = ts_ed\n",
    "primary_series = 'adj_close'\n",
    "calendar = timeseries.CAL_NYSE"
   ]
  },
  {
   "cell_type": "code",
   "execution_count": 32,
   "metadata": {},
   "outputs": [],
   "source": [
    "if calendar is not None:\n",
    "    index_name = ts.index.name\n",
    "    timeseries_dates = calendar.schedule(ts.index.min(), ts.index.max())\n",
    "    ts = ts.reindex(index=timeseries_dates.index)\n",
    "    ts.index.name = index_name"
   ]
  },
  {
   "cell_type": "code",
   "execution_count": 38,
   "metadata": {},
   "outputs": [
    {
     "data": {
      "text/plain": [
       "DatetimeIndex(['2015-08-06', '2015-08-07', '2015-08-10', '2015-08-11',\n",
       "               '2015-08-12', '2015-08-13', '2015-08-14', '2015-08-17',\n",
       "               '2015-08-18', '2015-08-19',\n",
       "               ...\n",
       "               '2019-10-18', '2019-10-21', '2019-10-22', '2019-10-23',\n",
       "               '2019-10-24', '2019-10-25', '2019-10-28', '2019-10-29',\n",
       "               '2019-10-30', '2019-10-31'],\n",
       "              dtype='datetime64[ns]', name='date', length=1068, freq='C')"
      ]
     },
     "execution_count": 38,
     "metadata": {},
     "output_type": "execute_result"
    }
   ],
   "source": [
    "timeseries_dates.index"
   ]
  },
  {
   "cell_type": "code",
   "execution_count": 11,
   "metadata": {},
   "outputs": [
    {
     "data": {
      "application/vnd.jupyter.widget-view+json": {
       "model_id": "9d28d62d5ba5421786ebef22431ba5d5",
       "version_major": 2,
       "version_minor": 0
      },
      "text/plain": [
       "HBox(children=(IntProgress(value=0, max=4), HTML(value='')))"
      ]
     },
     "metadata": {},
     "output_type": "display_data"
    },
    {
     "name": "stderr",
     "output_type": "stream",
     "text": [
      "/home/chlang/anaconda3/envs/promometheus/lib/python3.7/site-packages/statsmodels/base/model.py:512: ConvergenceWarning:\n",
      "\n",
      "Maximum Likelihood optimization failed to converge. Check mle_retvals\n",
      "\n",
      "/home/chlang/anaconda3/envs/promometheus/lib/python3.7/site-packages/statsmodels/base/model.py:512: ConvergenceWarning:\n",
      "\n",
      "Maximum Likelihood optimization failed to converge. Check mle_retvals\n",
      "\n",
      "/home/chlang/anaconda3/envs/promometheus/lib/python3.7/site-packages/statsmodels/tsa/kalmanf/kalmanfilter.py:221: RuntimeWarning:\n",
      "\n",
      "divide by zero encountered in true_divide\n",
      "\n",
      "/home/chlang/anaconda3/envs/promometheus/lib/python3.7/site-packages/statsmodels/base/model.py:492: HessianInversionWarning:\n",
      "\n",
      "Inverting hessian failed, no bse or cov_params available\n",
      "\n",
      "/home/chlang/anaconda3/envs/promometheus/lib/python3.7/site-packages/statsmodels/base/model.py:492: HessianInversionWarning:\n",
      "\n",
      "Inverting hessian failed, no bse or cov_params available\n",
      "\n"
     ]
    },
    {
     "name": "stdout",
     "output_type": "stream",
     "text": [
      "\n"
     ]
    }
   ],
   "source": [
    "fit_results = list()\n",
    "for an_order in tqdm_notebook(orders):\n",
    "    r = models.cv_timeseries(ts_aapl, models.Arima, order=an_order)\n",
    "    fit_results.append(r)\n",
    "    \n",
    "final_fit_result = pandas.concat(fit_results)"
   ]
  },
  {
   "cell_type": "code",
   "execution_count": null,
   "metadata": {},
   "outputs": [],
   "source": []
  }
 ],
 "metadata": {
  "kernelspec": {
   "display_name": "Python 3",
   "language": "python",
   "name": "python3"
  },
  "language_info": {
   "codemirror_mode": {
    "name": "ipython",
    "version": 3
   },
   "file_extension": ".py",
   "mimetype": "text/x-python",
   "name": "python",
   "nbconvert_exporter": "python",
   "pygments_lexer": "ipython3",
   "version": "3.7.3"
  }
 },
 "nbformat": 4,
 "nbformat_minor": 2
}
