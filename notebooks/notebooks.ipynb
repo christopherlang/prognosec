{
 "cells": [
  {
   "cell_type": "code",
   "execution_count": 1,
   "metadata": {},
   "outputs": [],
   "source": [
    "import pandas\n",
    "import numpy"
   ]
  },
  {
   "cell_type": "code",
   "execution_count": 2,
   "metadata": {},
   "outputs": [],
   "source": [
    "%reload_ext autoreload\n",
    "%autoreload 2\n",
    "\n",
    "%aimport dataseries\n",
    "%aimport functions\n",
    "%aimport progutils"
   ]
  },
  {
   "cell_type": "code",
   "execution_count": 3,
   "metadata": {},
   "outputs": [],
   "source": [
    "nrecs = 400\n",
    "date_indices = pandas.period_range('2019-01-01', periods=nrecs, freq='B', name='tradedate')\n",
    "data_series = numpy.arange(nrecs, dtype=float)\n",
    "\n",
    "tmp = dataseries.Timeseries(data_series, index=date_indices, series_name='x1')"
   ]
  },
  {
   "cell_type": "code",
   "execution_count": 4,
   "metadata": {},
   "outputs": [],
   "source": [
    "date_indices = pandas.period_range('2019-01-01', periods=10, freq='B', name='tradedate')\n",
    "data_series2 = numpy.array(['A', 'B', 'C', 'D', 'E', 'F', 'G', 'H', 'I', 'J'])\n",
    "\n",
    "tmp2 = dataseries.Timeseries(data_series2, index=date_indices, series_name='x1')"
   ]
  }
 ],
 "metadata": {
  "kernelspec": {
   "display_name": "Python 3",
   "language": "python",
   "name": "python3"
  },
  "language_info": {
   "codemirror_mode": {
    "name": "ipython",
    "version": 3
   },
   "file_extension": ".py",
   "mimetype": "text/x-python",
   "name": "python",
   "nbconvert_exporter": "python",
   "pygments_lexer": "ipython3",
   "version": "3.7.3"
  }
 },
 "nbformat": 4,
 "nbformat_minor": 2
}
